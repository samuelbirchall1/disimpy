{
  "cells": [
    {
      "cell_type": "code",
      "execution_count": 1,
      "metadata": {
        "colab": {
          "base_uri": "https://localhost:8080/"
        },
        "id": "MGIzqCkzDVEr",
        "outputId": "8d9e1ecc-0dbc-4e20-f87b-894da239f87c"
      },
      "outputs": [
        {
          "name": "stdout",
          "output_type": "stream",
          "text": [
            "Mounted at /content/drive\n",
            "Cloning into 'disimpy'...\n",
            "remote: Enumerating objects: 929, done.\u001b[K\n",
            "remote: Counting objects: 100% (283/283), done.\u001b[K\n",
            "remote: Compressing objects: 100% (100/100), done.\u001b[K\n",
            "remote: Total 929 (delta 226), reused 218 (delta 181), pack-reused 646\u001b[K\n",
            "Receiving objects: 100% (929/929), 8.21 MiB | 17.29 MiB/s, done.\n",
            "Resolving deltas: 100% (612/612), done.\n",
            "/content/disimpy\n",
            "/content/disimpy/disimpy\n",
            "Collecting meshio\n",
            "  Downloading meshio-5.3.4-py3-none-any.whl (167 kB)\n",
            "\u001b[2K     \u001b[90m━━━━━━━━━━━━━━━━━━━━━━━━━━━━━━━━━━━━━━━\u001b[0m \u001b[32m167.7/167.7 kB\u001b[0m \u001b[31m3.7 MB/s\u001b[0m eta \u001b[36m0:00:00\u001b[0m\n",
            "\u001b[?25hRequirement already satisfied: numpy in /usr/local/lib/python3.10/dist-packages (from meshio) (1.23.5)\n",
            "Requirement already satisfied: rich in /usr/local/lib/python3.10/dist-packages (from meshio) (13.5.2)\n",
            "Requirement already satisfied: markdown-it-py>=2.2.0 in /usr/local/lib/python3.10/dist-packages (from rich->meshio) (3.0.0)\n",
            "Requirement already satisfied: pygments<3.0.0,>=2.13.0 in /usr/local/lib/python3.10/dist-packages (from rich->meshio) (2.16.1)\n",
            "Requirement already satisfied: mdurl~=0.1 in /usr/local/lib/python3.10/dist-packages (from markdown-it-py>=2.2.0->rich->meshio) (0.1.2)\n",
            "Installing collected packages: meshio\n",
            "Successfully installed meshio-5.3.4\n"
          ]
        }
      ],
      "source": [
        "#Mount Drive if using colab\n",
        "from google.colab import drive\n",
        "drive.mount('/content/drive')\n",
        "\n",
        "#clone git repository and cd into correct file\n",
        "!git clone -b IVIM-BRANCH https://github.com/samuelbirchall1/disimpy.git\n",
        "%cd disimpy\n",
        "%cd disimpy\n",
        "\n",
        "#install meshio for mesh reading\n",
        "!pip install meshio\n",
        "\n",
        "#import packages\n",
        "import simulations, substrates, utils, gradients\n",
        "import meshio\n",
        "import numpy as np\n",
        "import matplotlib.pyplot as plt\n"
      ]
    },
    {
      "cell_type": "code",
      "execution_count": 2,
      "metadata": {
        "colab": {
          "base_uri": "https://localhost:8080/"
        },
        "id": "cDgJ8mGxDlR2",
        "outputId": "3d739da5-458e-4ed9-cc19-29afa3abde66"
      },
      "outputs": [
        {
          "name": "stdout",
          "output_type": "stream",
          "text": [
            "Aligning the corner of the simulated voxel with the origin\n",
            "Moved the vertices by [3.05005096e-06 3.07566688e-06 3.09149505e-06]\n",
            "Dividing the mesh into subvoxels\n",
            "Finished dividing the mesh into subvoxels\n"
          ]
        }
      ],
      "source": [
        "#Read mesh and get vertices and faces\n",
        "mesh = meshio.read(path_to_mesh)\n",
        "vertices = mesh.points.astype(np.float32)*1e-6 #convert to metres\n",
        "faces = mesh.cells[0].data\n",
        "\n",
        "#Create substrate object\n",
        "substrate = substrates.mesh(\n",
        "vertices,\n",
        "faces,\n",
        "periodic=True)\n",
        "\n",
        "#Get velocity direction, location\n",
        "vdir = np.load(path_to_vdir)\n",
        "vloc = np.load(path_to_vloc)\n",
        "vloc = vloc*1e-6 #convert to metres\n",
        "padding=np.zeros(3)\n",
        "shift = -np.min(vertices, axis=0) + padding\n",
        "vloc = vloc + shift\n"
      ]
    },
    {
      "cell_type": "code",
      "execution_count": 4,
      "metadata": {
        "id": "GWuhdSaPDopa"
      },
      "outputs": [],
      "source": [
        "#set points\n",
        "rs = gradients.distribute_points(32)\n",
        "\n",
        "sgp=False\n",
        "\n",
        "bs = np.linspace(0, 2.5e8, 50)\n",
        "delta = 20e-3\n",
        "DELTA = 100e-3\n",
        "n_t1 = int(2251)\n",
        "g_1, dt_1, ind = gradients.create_gradient(delta, DELTA, bs, n_t1, rs)\n",
        "n_t2 = int(3001)\n",
        "g_2, dt_2, ind = gradients.create_gradient(delta, DELTA, bs, n_t2, rs)\n",
        "n_t3 = int(3751)\n",
        "g_3, dt_3, ind = gradients.create_gradient(delta, DELTA, bs, n_t3, rs)"
      ]
    },
    {
      "cell_type": "code",
      "execution_count": 5,
      "metadata": {
        "colab": {
          "base_uri": "https://localhost:8080/",
          "height": 487
        },
        "id": "G69JeXRMu5cy",
        "outputId": "e64d339e-8720-402c-e276-83972c558410"
      },
      "outputs": [
        {
          "name": "stdout",
          "output_type": "stream",
          "text": [
            "8.000000000000001e-08\n",
            "Finished calculating initial positions\n"
          ]
        },
        {
          "ename": "KeyboardInterrupt",
          "evalue": "ignored",
          "output_type": "error",
          "traceback": [
            "\u001b[0;31m---------------------------------------------------------------------------\u001b[0m",
            "\u001b[0;31mKeyboardInterrupt\u001b[0m                         Traceback (most recent call last)",
            "\u001b[0;32m<ipython-input-5-26eed16e1f27>\u001b[0m in \u001b[0;36m<cell line: 8>\u001b[0;34m()\u001b[0m\n\u001b[1;32m      6\u001b[0m \u001b[0mflow_length\u001b[0m \u001b[0;34m=\u001b[0m \u001b[0mdt_1\u001b[0m\u001b[0;34m*\u001b[0m\u001b[0mflow_velocity\u001b[0m\u001b[0;34m\u001b[0m\u001b[0;34m\u001b[0m\u001b[0m\n\u001b[1;32m      7\u001b[0m \u001b[0mprint\u001b[0m\u001b[0;34m(\u001b[0m\u001b[0mflow_length\u001b[0m\u001b[0;34m)\u001b[0m\u001b[0;34m\u001b[0m\u001b[0;34m\u001b[0m\u001b[0m\n\u001b[0;32m----> 8\u001b[0;31m signals, positions, dis = simulations.flow_simulation(\n\u001b[0m\u001b[1;32m      9\u001b[0m     \u001b[0mn_walkers\u001b[0m\u001b[0;34m,\u001b[0m\u001b[0;34m\u001b[0m\u001b[0;34m\u001b[0m\u001b[0m\n\u001b[1;32m     10\u001b[0m     \u001b[0mflow_length\u001b[0m\u001b[0;34m,\u001b[0m\u001b[0;34m\u001b[0m\u001b[0;34m\u001b[0m\u001b[0m\n",
            "\u001b[0;32m/content/disimpy/disimpy/simulations.py\u001b[0m in \u001b[0;36mflow_simulation\u001b[0;34m(n_walkers, flow_step, gradient, dt, substrate, traj_file, vdir, vloc, seed, cuda_bs, max_iter, epsilon, all_signals, final_pos, quiet)\u001b[0m\n\u001b[1;32m   1579\u001b[0m     \u001b[0;32mfor\u001b[0m \u001b[0mt\u001b[0m \u001b[0;32min\u001b[0m \u001b[0mrange\u001b[0m\u001b[0;34m(\u001b[0m\u001b[0mgradient\u001b[0m\u001b[0;34m.\u001b[0m\u001b[0mshape\u001b[0m\u001b[0;34m[\u001b[0m\u001b[0;36m1\u001b[0m\u001b[0;34m]\u001b[0m\u001b[0;34m)\u001b[0m\u001b[0;34m:\u001b[0m\u001b[0;34m\u001b[0m\u001b[0;34m\u001b[0m\u001b[0m\n\u001b[1;32m   1580\u001b[0m         \u001b[0;31m#Nearest Neighbour Algorithm\u001b[0m\u001b[0;34m\u001b[0m\u001b[0;34m\u001b[0m\u001b[0m\n\u001b[0;32m-> 1581\u001b[0;31m         \u001b[0mvdir_index\u001b[0m \u001b[0;34m=\u001b[0m \u001b[0mtree\u001b[0m\u001b[0;34m.\u001b[0m\u001b[0mquery\u001b[0m\u001b[0;34m(\u001b[0m\u001b[0mpositions\u001b[0m\u001b[0;34m,\u001b[0m \u001b[0mworkers\u001b[0m\u001b[0;34m=\u001b[0m\u001b[0;34m-\u001b[0m\u001b[0;36m1\u001b[0m\u001b[0;34m)\u001b[0m\u001b[0;34m[\u001b[0m\u001b[0;36m1\u001b[0m\u001b[0;34m]\u001b[0m \u001b[0;31m#return index of nearest neighbour\u001b[0m\u001b[0;34m\u001b[0m\u001b[0;34m\u001b[0m\u001b[0m\n\u001b[0m\u001b[1;32m   1582\u001b[0m         \u001b[0mvdir_new\u001b[0m \u001b[0;34m=\u001b[0m \u001b[0mvdir\u001b[0m\u001b[0;34m[\u001b[0m\u001b[0mvdir_index\u001b[0m\u001b[0;34m]\u001b[0m \u001b[0;31m#\u001b[0m\u001b[0;34m\u001b[0m\u001b[0;34m\u001b[0m\u001b[0m\n\u001b[1;32m   1583\u001b[0m         \u001b[0md_vdir\u001b[0m \u001b[0;34m=\u001b[0m \u001b[0mcuda\u001b[0m\u001b[0;34m.\u001b[0m\u001b[0mto_device\u001b[0m\u001b[0;34m(\u001b[0m\u001b[0mvdir_new\u001b[0m\u001b[0;34m,\u001b[0m \u001b[0mstream\u001b[0m\u001b[0;34m=\u001b[0m\u001b[0mstream\u001b[0m\u001b[0;34m)\u001b[0m\u001b[0;34m\u001b[0m\u001b[0;34m\u001b[0m\u001b[0m\n",
            "\u001b[0;32m/usr/local/lib/python3.10/dist-packages/scipy/spatial/_kdtree.py\u001b[0m in \u001b[0;36mquery\u001b[0;34m(self, x, k, eps, p, distance_upper_bound, workers)\u001b[0m\n\u001b[1;32m    473\u001b[0m             \u001b[0;32mraise\u001b[0m \u001b[0mValueError\u001b[0m\u001b[0;34m(\u001b[0m\u001b[0;34m\"k must be an integer or a sequence of integers\"\u001b[0m\u001b[0;34m)\u001b[0m\u001b[0;34m\u001b[0m\u001b[0;34m\u001b[0m\u001b[0m\n\u001b[1;32m    474\u001b[0m \u001b[0;34m\u001b[0m\u001b[0m\n\u001b[0;32m--> 475\u001b[0;31m         \u001b[0md\u001b[0m\u001b[0;34m,\u001b[0m \u001b[0mi\u001b[0m \u001b[0;34m=\u001b[0m \u001b[0msuper\u001b[0m\u001b[0;34m(\u001b[0m\u001b[0;34m)\u001b[0m\u001b[0;34m.\u001b[0m\u001b[0mquery\u001b[0m\u001b[0;34m(\u001b[0m\u001b[0mx\u001b[0m\u001b[0;34m,\u001b[0m \u001b[0mk\u001b[0m\u001b[0;34m,\u001b[0m \u001b[0meps\u001b[0m\u001b[0;34m,\u001b[0m \u001b[0mp\u001b[0m\u001b[0;34m,\u001b[0m \u001b[0mdistance_upper_bound\u001b[0m\u001b[0;34m,\u001b[0m \u001b[0mworkers\u001b[0m\u001b[0;34m)\u001b[0m\u001b[0;34m\u001b[0m\u001b[0;34m\u001b[0m\u001b[0m\n\u001b[0m\u001b[1;32m    476\u001b[0m         \u001b[0;32mif\u001b[0m \u001b[0misinstance\u001b[0m\u001b[0;34m(\u001b[0m\u001b[0mi\u001b[0m\u001b[0;34m,\u001b[0m \u001b[0mint\u001b[0m\u001b[0;34m)\u001b[0m\u001b[0;34m:\u001b[0m\u001b[0;34m\u001b[0m\u001b[0;34m\u001b[0m\u001b[0m\n\u001b[1;32m    477\u001b[0m             \u001b[0mi\u001b[0m \u001b[0;34m=\u001b[0m \u001b[0mnp\u001b[0m\u001b[0;34m.\u001b[0m\u001b[0mintp\u001b[0m\u001b[0;34m(\u001b[0m\u001b[0mi\u001b[0m\u001b[0;34m)\u001b[0m\u001b[0;34m\u001b[0m\u001b[0;34m\u001b[0m\u001b[0m\n",
            "\u001b[0;32m_ckdtree.pyx\u001b[0m in \u001b[0;36mscipy.spatial._ckdtree.cKDTree.query\u001b[0;34m()\u001b[0m\n",
            "\u001b[0;32m_ckdtree.pyx\u001b[0m in \u001b[0;36mscipy.spatial._ckdtree._run_threads\u001b[0;34m()\u001b[0m\n",
            "\u001b[0;32m/usr/lib/python3.10/threading.py\u001b[0m in \u001b[0;36mjoin\u001b[0;34m(self, timeout)\u001b[0m\n\u001b[1;32m   1094\u001b[0m \u001b[0;34m\u001b[0m\u001b[0m\n\u001b[1;32m   1095\u001b[0m         \u001b[0;32mif\u001b[0m \u001b[0mtimeout\u001b[0m \u001b[0;32mis\u001b[0m \u001b[0;32mNone\u001b[0m\u001b[0;34m:\u001b[0m\u001b[0;34m\u001b[0m\u001b[0;34m\u001b[0m\u001b[0m\n\u001b[0;32m-> 1096\u001b[0;31m             \u001b[0mself\u001b[0m\u001b[0;34m.\u001b[0m\u001b[0m_wait_for_tstate_lock\u001b[0m\u001b[0;34m(\u001b[0m\u001b[0;34m)\u001b[0m\u001b[0;34m\u001b[0m\u001b[0;34m\u001b[0m\u001b[0m\n\u001b[0m\u001b[1;32m   1097\u001b[0m         \u001b[0;32melse\u001b[0m\u001b[0;34m:\u001b[0m\u001b[0;34m\u001b[0m\u001b[0;34m\u001b[0m\u001b[0m\n\u001b[1;32m   1098\u001b[0m             \u001b[0;31m# the behavior of a negative timeout isn't documented, but\u001b[0m\u001b[0;34m\u001b[0m\u001b[0;34m\u001b[0m\u001b[0m\n",
            "\u001b[0;32m/usr/lib/python3.10/threading.py\u001b[0m in \u001b[0;36m_wait_for_tstate_lock\u001b[0;34m(self, block, timeout)\u001b[0m\n\u001b[1;32m   1114\u001b[0m \u001b[0;34m\u001b[0m\u001b[0m\n\u001b[1;32m   1115\u001b[0m         \u001b[0;32mtry\u001b[0m\u001b[0;34m:\u001b[0m\u001b[0;34m\u001b[0m\u001b[0;34m\u001b[0m\u001b[0m\n\u001b[0;32m-> 1116\u001b[0;31m             \u001b[0;32mif\u001b[0m \u001b[0mlock\u001b[0m\u001b[0;34m.\u001b[0m\u001b[0macquire\u001b[0m\u001b[0;34m(\u001b[0m\u001b[0mblock\u001b[0m\u001b[0;34m,\u001b[0m \u001b[0mtimeout\u001b[0m\u001b[0;34m)\u001b[0m\u001b[0;34m:\u001b[0m\u001b[0;34m\u001b[0m\u001b[0;34m\u001b[0m\u001b[0m\n\u001b[0m\u001b[1;32m   1117\u001b[0m                 \u001b[0mlock\u001b[0m\u001b[0;34m.\u001b[0m\u001b[0mrelease\u001b[0m\u001b[0;34m(\u001b[0m\u001b[0;34m)\u001b[0m\u001b[0;34m\u001b[0m\u001b[0;34m\u001b[0m\u001b[0m\n\u001b[1;32m   1118\u001b[0m                 \u001b[0mself\u001b[0m\u001b[0;34m.\u001b[0m\u001b[0m_stop\u001b[0m\u001b[0;34m(\u001b[0m\u001b[0;34m)\u001b[0m\u001b[0;34m\u001b[0m\u001b[0;34m\u001b[0m\u001b[0m\n",
            "\u001b[0;31mKeyboardInterrupt\u001b[0m: "
          ]
        }
      ],
      "source": [
        "n_walkers = 100000\n",
        "traj_file = None\n",
        "\n",
        "\n",
        "flow_velocity = 0.0015 #m/s\n",
        "flow_length = dt_1*flow_velocity\n",
        "print(flow_length)\n",
        "signals, positions, dis = simulations.flow_simulation(\n",
        "    n_walkers,\n",
        "    flow_length,\n",
        "    g_1,\n",
        "    dt_1,\n",
        "    substrate,\n",
        "    traj_file,\n",
        "    vdir,\n",
        "    vloc,\n",
        ")\n",
        "\n",
        "\n",
        "flow_velocity = 0.0020 #m/s\n",
        "flow_length = dt_2*flow_velocity\n",
        "print(flow_length)\n",
        "signals1, positions1, dis1 = simulations.flow_simulation(\n",
        "    n_walkers,\n",
        "    flow_length,\n",
        "    g_2,\n",
        "    dt_2,\n",
        "    substrate,\n",
        "    traj_file,\n",
        "    vdir,\n",
        "    vloc,\n",
        ")\n",
        "\n",
        "\n",
        "flow_velocity = 0.0025 #m/s\n",
        "flow_length = dt_3*flow_velocity\n",
        "print(flow_length)\n",
        "signals2, positions2, dis2 = simulations.flow_simulation(\n",
        "    n_walkers,\n",
        "    flow_length,\n",
        "    g_3,\n",
        "    dt_3,\n",
        "    substrate,\n",
        "    traj_file,\n",
        "    vdir,\n",
        "    vloc,\n",
        ")\n"
      ]
    },
    {
      "cell_type": "code",
      "execution_count": null,
      "metadata": {
        "id": "OcS7QFkB5Lpk"
      },
      "outputs": [],
      "source": [
        "#calculate average signals\n",
        "avg_s1 = np.mean(signals, axis=0)\n",
        "avg_s2 = np.mean(signals1, axis=0)\n",
        "avg_s3 = np.mean(signals2, axis=0)\n",
        "\n",
        "avg_s = [avg_s1, avg_s2, avg_s3]"
      ]
    },
    {
      "cell_type": "code",
      "execution_count": null,
      "metadata": {
        "id": "QQj8mdrf3K_z"
      },
      "outputs": [],
      "source": [
        "from matplotlib import pyplot as plt\n",
        "#plot predictions and signals\n",
        "\n",
        "#calculate analytical signals\n",
        "v=[0.0015, 0.0020, 0.0025]\n",
        "l = 24.1 #mean segment length\n",
        "D_star = (1/6)*l*v\n",
        "preds = np.exp(-np.array(D_star)*bs)\n",
        "\n",
        "colours = ['tab:blue', 'tab:orange', 'tab:green']\n",
        "fig = plt.figure(1, figsize=(6,4))\n",
        "ax = fig.add_subplot()\n",
        "\n",
        "for i in range(len(avg_s)):\n",
        "\n",
        "    ax.scatter(bs, np.log10(avg_s[i]) s=5, c=colours[i], alpha=0.5)\n",
        "    ax.plot(bs, np.log10(preds[i]), alpha=0.75, c=colours[i], label=f'$v$ = {v[i]*1000} mm/s')\n",
        "\n",
        "ax.legend(loc='lower left')\n",
        "ax.set_xlim(0, 2.5e8)\n",
        "\n",
        "ax.set_ylim(-2.5, 0)\n",
        "ax.yaxis.set_ticks_position('both')\n",
        "ax.set_xlabel(\"b (s/m$^2$)\")\n",
        "ax.set_ylabel(\"S/S$_0$\")\n",
        "ax.set_yscale('symlog')\n",
        "\n",
        "fig.tight_layout()\n",
        "\n",
        "plt.show()"
      ]
    },
    {
      "cell_type": "code",
      "execution_count": null,
      "metadata": {
        "id": "m0fXw5Pp2YPb"
      },
      "outputs": [],
      "source": [
        "#sinc regime\n",
        "delta = 0\n",
        "DELTA = 5e-4\n",
        "bs = np.linspace(0, 10e8, 50)\n",
        "n_t = 1001\n",
        "#create gradient pulse\n",
        "g_1, dt_1 = create_SGP_gradient(bs, n_t, DELTA, rs)\n",
        "#set gradients and dt the same for each experiment\n",
        "g_2 = g_1\n",
        "g_3 = g_1\n",
        "dt_2 = dt_1\n",
        "dt_3 = dt_1\n",
        "\n",
        "flow_velocity = 0.0015 #m/s\n",
        "flow_length = dt_1*flow_velocity\n",
        "print(flow_length)\n",
        "signals, positions, dis = simulations.flow_simulation(\n",
        "    n_walkers,\n",
        "    flow_length,\n",
        "    g_1,\n",
        "    dt_1,\n",
        "    substrate,\n",
        "    traj_file,\n",
        "    vdir,\n",
        "    vloc,\n",
        "\n",
        ")\n",
        "\n",
        "\n",
        "flow_velocity = 0.0020 #m/s\n",
        "flow_length = dt_2*flow_velocity\n",
        "print(flow_length)\n",
        "signals1, positions1, dis1 = simulations.flow_simulation(\n",
        "    n_walkers,\n",
        "    flow_length,\n",
        "    g_2,\n",
        "    dt_2,\n",
        "    substrate,\n",
        "    traj_file,\n",
        "    vdir,\n",
        "    vloc,\n",
        ")\n",
        "\n",
        "\n",
        "flow_velocity = 0.0025 #m/s\n",
        "flow_length = dt_3*flow_velocity\n",
        "print(flow_length)\n",
        "signals2, positions2, dis2 = simulations.flow_simulation(\n",
        "    n_walkers,\n",
        "    flow_length,\n",
        "    g_3,\n",
        "    dt_3,\n",
        "    substrate,\n",
        "    traj_file,\n",
        "    vdir,\n",
        "    vloc,\n",
        ")"
      ]
    },
    {
      "cell_type": "code",
      "execution_count": null,
      "metadata": {
        "id": "S8c1eaz76YW6"
      },
      "outputs": [],
      "source": [
        "#plot sinc signals\n",
        "\n",
        "#new bs for analytical signals\n",
        "bs1 = np.linspace(0, 10e8, 1000)\n",
        "\n",
        "#get average signals\n",
        "\n",
        "avg_s1_sinc = np.mean(signals, axis=0)\n",
        "avg_s2_sinc = np.mean(signals1, axis=0)\n",
        "avg_s3_sinc = np.mean(signals2, axis=0)\n",
        "\n",
        "#average signals\n",
        "avg_s_sinc = [avg_s1_sinc, avg_s2_sinc, avg_s3_sinc]\n",
        "\n",
        "#calculate qs\n",
        "qs = np.sqrt(0.5*bs / DELTA) / (2* np.pi)\n",
        "\n",
        "#calculate analytic singals\n",
        "\n",
        "colours = ['tab:blue', 'tab:orange', 'tab:green']\n",
        "fig = plt.figure(1, figsize=(6,4))\n",
        "ax = fig.add_subplot()\n",
        "\n",
        "for i in range(len(avg_s_sinc)):\n",
        "\n",
        "    ax.scatter(bs, np.log10(avg_s_sinc[i]), s=5, c=colours[i], alpha=0.5)\n",
        "    ax.plot(bs, np.log10(preds[i]), alpha=0.75, c=colours[i], label=f'$v$ = {v[i]*1000} mm/s')\n",
        "\n",
        "ax.legend(loc='lower left')\n",
        "ax.set_xlim(0, 2.5e8)\n",
        "\n",
        "ax.set_ylim(-2.5, 0)\n",
        "ax.yaxis.set_ticks_position('both')\n",
        "ax.set_xlabel(\"b (s/m$^2$)\")\n",
        "ax.set_ylabel(\"S/S$_0$\")\n",
        "ax.set_yscale('symlog')\n",
        "\n",
        "fig.tight_layout()\n",
        "\n",
        "plt.show()"
      ]
    }
  ],
  "metadata": {
    "accelerator": "GPU",
    "colab": {
      "gpuType": "A100",
      "machine_shape": "hm",
      "provenance": []
    },
    "kernelspec": {
      "display_name": "Python 3",
      "name": "python3"
    },
    "language_info": {
      "name": "python"
    }
  },
  "nbformat": 4,
  "nbformat_minor": 0
}
